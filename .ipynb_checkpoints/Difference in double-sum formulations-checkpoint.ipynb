{
 "cells": [
  {
   "cell_type": "markdown",
   "metadata": {},
   "source": [
    "# Comparison of double-sum formulations\n",
    "The final log-loss of U-max using the proposed double-sum formulation and Raman's double-sum formulation are compared."
   ]
  },
  {
   "cell_type": "code",
   "execution_count": 39,
   "metadata": {
    "collapsed": true
   },
   "outputs": [],
   "source": [
    "import pickle\n",
    "import numpy as np\n",
    "import os.path\n",
    "import math"
   ]
  },
  {
   "cell_type": "code",
   "execution_count": 42,
   "metadata": {},
   "outputs": [],
   "source": [
    "def get_final_log_loss(sgd_name, dataset, learning_rate, directory):\n",
    "    \"\"\"Returns final log loss for U-max on the Eurlex dataset.\n",
    "    \n",
    "    tilde:              True = Raman's formulation, \n",
    "                        False = proposed formulation\n",
    "    learning_rate:      Learning rate\n",
    "    \"\"\"\n",
    "    directory_name = 'Results/Complete/' + directory + '/'\n",
    "    file_name = (directory_name \n",
    "                 + sgd_name + '_'\n",
    "                 + dataset + '_'\n",
    "                 + ('lr_' if directory == 'Tuning' else '')\n",
    "                 + learning_rate\n",
    "                 + ('_prop_data_0.1' if directory == 'Tuning' else '')\n",
    "                 +'.p')\n",
    "\n",
    "    if os.path.isfile(file_name):\n",
    "        with open(file_name, 'rb') as f:\n",
    "            results = pickle.load(f)\n",
    "            final_log_loss = np.mean(results['train'][:, :, 1], axis=0)[-1]\n",
    "            return None if math.isnan(final_log_loss) else final_log_loss\n",
    "        "
   ]
  },
  {
   "cell_type": "code",
   "execution_count": 3,
   "metadata": {
    "collapsed": true
   },
   "outputs": [],
   "source": [
    "learning_rates = ['1000.0', '100.0', '10.0', '1.0', '0.1', '0.01', '0.001']"
   ]
  },
  {
   "cell_type": "code",
   "execution_count": 4,
   "metadata": {
    "collapsed": true
   },
   "outputs": [],
   "source": [
    "# Gather final log-losses\n",
    "relative_log_losses = [(get_final_log_loss('tilde_Umax', 'Eurlex', lr, 'Original') \n",
    "                       / get_final_log_loss('Umax', 'Eurlex', lr, 'Original'))\n",
    "                       for lr in learning_rates]"
   ]
  },
  {
   "cell_type": "code",
   "execution_count": 5,
   "metadata": {},
   "outputs": [
    {
     "name": "stdout",
     "output_type": "stream",
     "text": [
      "Relative log_losses: [4.1697272310583493, 4.2467509260447054, 4.0496241976833636, 3.6603675901527217, 2.3218590387451092, 1.686531567322741, 1.4035453259455466]\n",
      "\n",
      "Mean relative log_loss: 3.076915125278934\n"
     ]
    }
   ],
   "source": [
    "# Display results\n",
    "\n",
    "print('Relative log_losses: {}'.format(relative_log_losses))\n",
    "mean_relative_log_losses = np.mean(relative_log_losses)\n",
    "print('\\nMean relative log_loss: {}'.format(mean_relative_log_losses))"
   ]
  },
  {
   "cell_type": "markdown",
   "metadata": {},
   "source": [
    "# Similar calculations comparing Umax and Vanilla SGD"
   ]
  },
  {
   "cell_type": "code",
   "execution_count": 48,
   "metadata": {},
   "outputs": [
    {
     "data": {
      "text/plain": [
       "[(1835.1088422971784, 'Eurlex', '100.0'),\n",
       " (189.8172166785443, 'Eurlex', '10.0'),\n",
       " (18.729691386271206, 'Eurlex', '1.0'),\n",
       " (2.0354487273675277, 'Eurlex', '0.1'),\n",
       " (2.4123893994610692, 'Eurlex', '0.01'),\n",
       " (4.179664609026239, 'Eurlex', '0.001'),\n",
       " (459833.50452787575, 'wikiSmall', '100.0'),\n",
       " (47119.402964551358, 'wikiSmall', '10.0'),\n",
       " (4700.0686076358443, 'wikiSmall', '1.0'),\n",
       " (477.81099390642265, 'wikiSmall', '0.1'),\n",
       " (49.105579853269589, 'wikiSmall', '0.01'),\n",
       " (9.4242557362545973, 'wikiSmall', '0.001'),\n",
       " (23038.543590446283, 'AmazonCat', '100.0'),\n",
       " (2278.0358779783346, 'AmazonCat', '10.0'),\n",
       " (227.66827834491139, 'AmazonCat', '1.0'),\n",
       " (23.02143153824845, 'AmazonCat', '0.1'),\n",
       " (4.9821618158893841, 'AmazonCat', '0.01'),\n",
       " (5.1760768302992437, 'AmazonCat', '0.001'),\n",
       " (22484.191898148267, 'wiki10', '100.0'),\n",
       " (2247.1108630260346, 'wiki10', '10.0'),\n",
       " (225.5156840036083, 'wiki10', '1.0'),\n",
       " (21.712564780609007, 'wiki10', '0.1'),\n",
       " (7.0357752992754765, 'wiki10', '0.01'),\n",
       " (7.9377412128508134, 'wiki10', '0.001'),\n",
       " (4039.1631375589859, 'Delicious', '100.0'),\n",
       " (413.31340398186904, 'Delicious', '10.0'),\n",
       " (39.498306517099536, 'Delicious', '1.0'),\n",
       " (5.1479301371907917, 'Delicious', '0.1'),\n",
       " (4.5291833130783408, 'Delicious', '0.01'),\n",
       " (5.2717051065524592, 'Delicious', '0.001'),\n",
       " (822.52701489537924, 'Bibtex', '100.0'),\n",
       " (80.86196435016349, 'Bibtex', '10.0'),\n",
       " (7.3746865726233874, 'Bibtex', '1.0'),\n",
       " (3.7283575424907562, 'Bibtex', '0.1'),\n",
       " (4.324636671268423, 'Bibtex', '0.01'),\n",
       " (4.7756027267408623, 'Bibtex', '0.001'),\n",
       " (10.290259030989992, 'mnist', '100.0'),\n",
       " (1.0482051821799794, 'mnist', '10.0'),\n",
       " (0.33789029864629366, 'mnist', '1.0'),\n",
       " (0.37557110772964297, 'mnist', '0.1'),\n",
       " (0.69848582478171806, 'mnist', '0.01'),\n",
       " (1.6180733772031262, 'mnist', '0.001')]"
      ]
     },
     "execution_count": 48,
     "metadata": {},
     "output_type": "execute_result"
    }
   ],
   "source": [
    "datasets = ['Eurlex', 'wikiSmall', 'AmazonCat', 'wiki10', 'Delicious', 'Bibtex', 'mnist']\n",
    "learning_rates = ['100.0', '10.0', '1.0', '0.1', '0.01', '0.001']\n",
    "[(get_final_log_loss('Umax', dataset, lr, 'Original' if dataset == 'Eurlex' else 'Tuning') ,dataset ,lr)\n",
    " for dataset in datasets \n",
    " for lr in learning_rates\n",
    " if isinstance(get_final_log_loss('VanillaSGD', dataset, lr, 'Tuning'), float)]#"
   ]
  },
  {
   "cell_type": "code",
   "execution_count": null,
   "metadata": {
    "collapsed": true
   },
   "outputs": [],
   "source": []
  }
 ],
 "metadata": {
  "kernelspec": {
   "display_name": "Python 3",
   "language": "python",
   "name": "python3"
  },
  "language_info": {
   "codemirror_mode": {
    "name": "ipython",
    "version": 3
   },
   "file_extension": ".py",
   "mimetype": "text/x-python",
   "name": "python",
   "nbconvert_exporter": "python",
   "pygments_lexer": "ipython3",
   "version": "3.6.1"
  }
 },
 "nbformat": 4,
 "nbformat_minor": 2
}
