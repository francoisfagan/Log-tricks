{
 "cells": [
  {
   "cell_type": "markdown",
   "metadata": {},
   "source": [
    "# Comparison of double-sum formulations\n",
    "The final log-loss of U-max using the proposed double-sum formulation and Raman's double-sum formulation are compared."
   ]
  },
  {
   "cell_type": "code",
   "execution_count": 39,
   "metadata": {
    "collapsed": true
   },
   "outputs": [],
   "source": [
    "import pickle\n",
    "import numpy as np\n",
    "import os.path\n",
    "import math"
   ]
  },
  {
   "cell_type": "code",
   "execution_count": 42,
   "metadata": {},
   "outputs": [],
   "source": [
    "def get_final_log_loss(sgd_name, dataset, learning_rate, directory):\n",
    "    \"\"\"Returns final log loss for U-max on the Eurlex dataset.\n",
    "    \n",
    "    tilde:              True = Raman's formulation, \n",
    "                        False = proposed formulation\n",
    "    learning_rate:      Learning rate\n",
    "    \"\"\"\n",
    "    directory_name = 'Results/Complete/' + directory + '/'\n",
    "    file_name = (directory_name \n",
    "                 + sgd_name + '_'\n",
    "                 + dataset + '_'\n",
    "                 + ('lr_' if directory == 'Tuning' else '')\n",
    "                 + learning_rate\n",
    "                 + ('_prop_data_0.1' if directory == 'Tuning' else '')\n",
    "                 +'.p')\n",
    "\n",
    "    if os.path.isfile(file_name):\n",
    "        with open(file_name, 'rb') as f:\n",
    "            results = pickle.load(f)\n",
    "            final_log_loss = np.mean(results['train'][:, :, 1], axis=0)[-1]\n",
    "            return None if math.isnan(final_log_loss) else final_log_loss\n",
    "        "
   ]
  },
  {
   "cell_type": "code",
   "execution_count": 3,
   "metadata": {
    "collapsed": true
   },
   "outputs": [],
   "source": [
    "learning_rates = ['1000.0', '100.0', '10.0', '1.0', '0.1', '0.01', '0.001']"
   ]
  },
  {
   "cell_type": "code",
   "execution_count": 4,
   "metadata": {
    "collapsed": true
   },
   "outputs": [],
   "source": [
    "# Gather final log-losses\n",
    "relative_log_losses = [(get_final_log_loss('tilde_Umax', 'Eurlex', lr, 'Original') \n",
    "                       / get_final_log_loss('Umax', 'Eurlex', lr, 'Original'))\n",
    "                       for lr in learning_rates]"
   ]
  },
  {
   "cell_type": "code",
   "execution_count": 5,
   "metadata": {},
   "outputs": [
    {
     "name": "stdout",
     "output_type": "stream",
     "text": [
      "Relative log_losses: [4.1697272310583493, 4.2467509260447054, 4.0496241976833636, 3.6603675901527217, 2.3218590387451092, 1.686531567322741, 1.4035453259455466]\n",
      "\n",
      "Mean relative log_loss: 3.076915125278934\n"
     ]
    }
   ],
   "source": [
    "# Display results\n",
    "\n",
    "print('Relative log_losses: {}'.format(relative_log_losses))\n",
    "mean_relative_log_losses = np.mean(relative_log_losses)\n",
    "print('\\nMean relative log_loss: {}'.format(mean_relative_log_losses))"
   ]
  },
  {
   "cell_type": "markdown",
   "metadata": {},
   "source": [
    "# Similar calculations comparing Umax and Vanilla SGD"
   ]
  },
  {
   "cell_type": "code",
   "execution_count": 59,
   "metadata": {},
   "outputs": [
    {
     "name": "stdout",
     "output_type": "stream",
     "text": [
      "0.9521969255\n"
     ]
    }
   ],
   "source": [
    "datasets = ['Eurlex', 'wikiSmall', 'AmazonCat', 'wiki10', 'Delicious', 'Bibtex', 'mnist']\n",
    "learning_rates = ['100.0', '10.0', '1.0', '0.1', '0.01', '0.001', '0.0001']\n",
    "ratio = [(get_final_log_loss('VanillaSGD', dataset, lr, 'Tuning')\n",
    "           / get_final_log_loss('Umax', dataset, lr, 'Original' if dataset == 'Eurlex' else 'Tuning')) #,dataset ,lr)\n",
    "         for dataset in datasets \n",
    "         for lr in learning_rates\n",
    "         if isinstance(get_final_log_loss('VanillaSGD', dataset, lr, 'Tuning'), float)\n",
    "         and get_final_log_loss('Umax', dataset, lr, 'Original' if dataset == 'Eurlex' else 'Tuning') is not None]\n",
    "print(np.mean(ratio))"
   ]
  },
  {
   "cell_type": "code",
   "execution_count": 52,
   "metadata": {},
   "outputs": [
    {
     "data": {
      "text/plain": [
       "True"
      ]
     },
     "execution_count": 52,
     "metadata": {},
     "output_type": "execute_result"
    }
   ],
   "source": []
  }
 ],
 "metadata": {
  "kernelspec": {
   "display_name": "Python 3",
   "language": "python",
   "name": "python3"
  },
  "language_info": {
   "codemirror_mode": {
    "name": "ipython",
    "version": 3
   },
   "file_extension": ".py",
   "mimetype": "text/x-python",
   "name": "python",
   "nbconvert_exporter": "python",
   "pygments_lexer": "ipython3",
   "version": "3.6.1"
  }
 },
 "nbformat": 4,
 "nbformat_minor": 2
}
